{
 "cells": [
  {
   "cell_type": "markdown",
   "metadata": {},
   "source": [
    "# Python Essentials - Cumulative Lab\n",
    "\n",
    "## Introduction\n",
    "\n",
    "Congratulations, you made it through the new content for the first section of the prework! This cumulative lab will help you review and practice everything you've learned in this section — \"putting it all together\" into an analysis with real-world data.\n",
    "\n",
    "## Objectives\n",
    "You will be able to:\n",
    "\n",
    " - Recall the data types covered so far\n",
    " - Practice extracting information from a nested dataset\n",
    " - Practice generating insights with conditional logic\n",
    "\n",
    "## Your Task: Analyze Amazon Review Data\n",
    "\n",
    "For this lab we are going to be working with data collected by Computer Science researchers at the University of California, San Diego. Their full paper citation is here:\n",
    "> **Justifying recommendations using distantly-labeled reviews and fined-grained aspects**\n",
    "Jianmo Ni, Jiacheng Li, Julian McAuley\n",
    "Empirical Methods in Natural Language Processing (EMNLP), 2019\n",
    "[pdf](http://cseweb.ucsd.edu/~jmcauley/pdfs/emnlp19a.pdf)\n",
    "\n",
    "We are using a cleaned-up sample version of their [full dataset](https://nijianmo.github.io/amazon/index.html), which contains over 200 million reviews of products on Amazon.com. Specifically, a subset of reviews from the Home and Kitchen category about coffee-related products.\n",
    "\n",
    "![coffee preparation](https://curriculum-content.s3.amazonaws.com/data-science/images/coffee.jpg)\n",
    "\n",
    "<span>Photo by <a href=\"https://unsplash.com/@kfred?utm_source=unsplash&amp;utm_medium=referral&amp;utm_content=creditCopyText\">Karl Fredrickson</a> on <a href=\"https://unsplash.com/?utm_source=unsplash&amp;utm_medium=referral&amp;utm_content=creditCopyText\">Unsplash</a></span>\n",
    "\n",
    "### Requirements\n",
    "\n",
    "#### 1. Data Summary\n",
    "Write code that describes the number of records (dictionaries) in the dataset, as well as the features (keys) contained in each record.\n",
    "\n",
    "#### 2. Review Selection\n",
    "Create a variable `review_index` that can be changed, so that your code will select any review from the collection in order to print out information.\n",
    "\n",
    "#### 3. Review Summary\n",
    "\n",
    "##### a. Positive, Negative, or Neutral\n",
    "Print out information describing whether a review's rating is positive, negative, or neutral.\n",
    "\n",
    "##### b. Review Year\n",
    "Extract just the year from the review date\n",
    "\n",
    "##### c. BONUS: Image\n",
    "Use Jupyter Notebook functionality to display the first image from the review\n",
    "\n",
    "## Data Summary\n",
    "\n",
    "In the cell below, we've opened up the dataset and loaded it into a list of dictionaries called `reviews`."
   ]
  },
  {
   "cell_type": "code",
   "execution_count": 10,
   "metadata": {},
   "outputs": [
    {
     "data": {
      "text/plain": [
       "list"
      ]
     },
     "execution_count": 10,
     "metadata": {},
     "output_type": "execute_result"
    }
   ],
   "source": [
    "# Run this cell without changes\n",
    "import json\n",
    "with open(\"coffee_product_reviews.json\") as f:\n",
    "    reviews = json.load(f)\n",
    "type(reviews)"
   ]
  },
  {
   "cell_type": "markdown",
   "metadata": {},
   "source": [
    "In the cell below, delete `None` and replace it with appropriate code so the info printout is correct\n",
    "\n",
    "(In other words: when you're done, you should have code to find the number of entries in the `reviews` list, i.e. the size or length of the list)"
   ]
  },
  {
   "cell_type": "code",
   "execution_count": 12,
   "metadata": {},
   "outputs": [
    {
     "name": "stdout",
     "output_type": "stream",
     "text": [
      "[{'rating': 5.0, 'reviewer_name': 'Sns073194', 'product_id': 'B00004RFRV', 'review_title': 'Perfect cafsito every time', 'review_time': '03 11, 2018', 'images': ['https://images-na.ssl-images-amazon.com/images/I/71d2cQEgJsL._SY88.jpg'], 'styles': {'Size:': ' 6-Cup', 'Color:': ' Silver'}}, {'rating': 5.0, 'reviewer_name': 'Maverick', 'product_id': 'B00004RFRV', 'review_title': 'Delicious results from a wonderfully simple Bialetti Moka Express!', 'review_time': '12 3, 2017', 'images': ['https://images-na.ssl-images-amazon.com/images/I/61NG30sWdJL._SY88.jpg'], 'styles': {'Size:': ' 1-Cup', 'Color:': ' Silver'}}, {'rating': 5.0, 'reviewer_name': 'Karen', 'product_id': 'B00004RFRV', 'review_title': 'Bialetti is the Best!', 'review_time': '11 12, 2017', 'images': ['https://images-na.ssl-images-amazon.com/images/I/81+XxFRGyBL._SY88.jpg'], 'styles': {'Size:': ' 12-Cup', 'Color:': ' Silver'}}, {'rating': 5.0, 'reviewer_name': 'Feles (muy Mala)', 'product_id': 'B00004RFRV', 'review_title': 'Awesome portion control for one person!', 'review_time': '08 5, 2017', 'images': ['https://images-na.ssl-images-amazon.com/images/I/71BcwbkGyfL._SY88.jpg'], 'styles': {'Size:': ' 6-Cup', 'Color:': ' Purple'}}, {'rating': 1.0, 'reviewer_name': 'EJ', 'product_id': 'B00004RFRV', 'review_title': 'Rusted spots everywhere fresh out the box...nasty', 'review_time': '06 4, 2017', 'images': ['https://images-na.ssl-images-amazon.com/images/I/71Dbr6X0bYL._SY88.jpg'], 'styles': {'Size:': ' 9-Cup', 'Color:': ' Silver'}}, {'rating': 5.0, 'reviewer_name': 'JohnInNC', 'product_id': 'B00004RFRV', 'review_title': 'To Moka, or not to Moka...', 'review_time': '03 24, 2017', 'images': ['https://images-na.ssl-images-amazon.com/images/I/710e2kQhIZL._SY88.jpg'], 'styles': {'Size:': ' 1-Cup', 'Color:': ' Silver'}}, {'rating': 5.0, 'reviewer_name': 'ArmiWyf', 'product_id': 'B00004RFRV', 'review_title': 'LUV IT!!!', 'review_time': '09 2, 2016', 'images': ['https://images-na.ssl-images-amazon.com/images/I/61sbRLnd2UL._SY88.jpg'], 'styles': {'Size:': ' 12-Cup', 'Color:': ' Silver'}}, {'rating': 1.0, 'reviewer_name': 'mathman54', 'product_id': 'B00004RFRV', 'review_title': \"The bottom looks like it has rusted and I don't know how to ...\", 'review_time': '02 15, 2016', 'images': ['https://images-na.ssl-images-amazon.com/images/I/71qt4Hnra8L._SY88.jpg', 'https://images-na.ssl-images-amazon.com/images/I/71Wkg8MesdL._SY88.jpg'], 'styles': {'Size:': ' 12-Cup', 'Color:': ' Silver'}}, {'rating': 5.0, 'reviewer_name': 'Sierra&#039;s Mom', 'product_id': 'B00004RFRV', 'review_title': 'Allow the auroma of perculated coffee to fill your home......', 'review_time': '12 15, 2015', 'images': ['https://images-na.ssl-images-amazon.com/images/I/61yZTZEoAYL._SY88.jpg', 'https://images-na.ssl-images-amazon.com/images/I/61eF-9jsE0L._SY88.jpg'], 'styles': {'Size:': ' 12-Cup', 'Color:': ' Silver'}}, {'rating': 5.0, 'reviewer_name': 'Patrick523', 'product_id': 'B00004RFRV', 'review_title': 'Intoxicating aroma', 'review_time': '11 13, 2015', 'images': ['https://images-na.ssl-images-amazon.com/images/I/718ORINhFvL._SY88.jpg'], 'styles': {'Size:': ' 6-Cup', 'Color:': ' Silver'}}, {'rating': 5.0, 'reviewer_name': 'chuckreviews', 'product_id': 'B00004S1CV', 'review_title': 'Works for coffee to !', 'review_time': '10 6, 2013', 'images': ['https://images-na.ssl-images-amazon.com/images/I/41pm7nxY7WL._SY88.jpg'], 'styles': {'Size:': ' A', 'Package Quantity:': ' 1'}}, {'rating': 5.0, 'reviewer_name': 'B. Laska', 'product_id': 'B00004RFRV', 'review_title': 'Love my Moka pots!', 'review_time': '07 9, 2015', 'images': ['https://images-na.ssl-images-amazon.com/images/I/719NCqw4GML._SY88.jpg'], 'styles': {'Size:': ' 1-Cup', 'Color:': ' Silver'}}, {'rating': 1.0, 'reviewer_name': 'Maria Fernandez', 'product_id': 'B00004RFRV', 'review_title': 'Is it a Bialetti? Came dirty with coffee grounds.', 'review_time': '03 22, 2015', 'images': ['https://images-na.ssl-images-amazon.com/images/I/71aPg3ZuCzL._SY88.jpg', 'https://images-na.ssl-images-amazon.com/images/I/71-2keZacOL._SY88.jpg', 'https://images-na.ssl-images-amazon.com/images/I/71Z4C4G-0dL._SY88.jpg'], 'styles': {'Size:': ' 6-Cup', 'Color:': ' Silver'}}, {'rating': 5.0, 'reviewer_name': 'Mike Tarrani', 'product_id': 'B00004RFRV', 'review_title': 'Size sometimes matters', 'review_time': '03 7, 2013', 'images': ['https://images-na.ssl-images-amazon.com/images/I/71aRHnB4ATL._SY88.jpg'], 'styles': {'Size:': ' 12-Cup', 'Color:': ' Silver'}}, {'rating': 5.0, 'reviewer_name': 'N. Lazar', 'product_id': 'B00004RFRV', 'review_title': 'My number 1 method for making coffee', 'review_time': '02 7, 2013', 'images': ['https://images-na.ssl-images-amazon.com/images/I/61+77CLdkpL._SY88.jpg'], 'styles': {'Size:': ' 6-Cup', 'Color:': ' Silver'}}, {'rating': 5.0, 'reviewer_name': 'Jonathan Sabin', 'product_id': 'B00004RFRV', 'review_title': 'Smooo---ooo----oooo--th!!', 'review_time': '10 2, 2007', 'images': ['https://images-na.ssl-images-amazon.com/images/I/51XtijrZHBL._SY88.jpg'], 'styles': {'Size:': ' 6-Cup', 'Color:': ' Silver'}}, {'rating': 5.0, 'reviewer_name': 'Alexander Lamakin', 'product_id': 'B00004S8DX', 'review_title': 'This is my good buy.', 'review_time': '11 29, 2016', 'images': ['https://images-na.ssl-images-amazon.com/images/I/7184SwO3X-L._SY88.jpg'], 'styles': {'Size:': ' Regular-used'}}, {'rating': 5.0, 'reviewer_name': 'Joseph P. Long', 'product_id': 'B00004SPD9', 'review_title': 'This thing is awesome!', 'review_time': '12 31, 2008', 'images': ['https://images-na.ssl-images-amazon.com/images/I/615ODQakzjL._SY88.jpg'], 'styles': {'Color:': ' Walnut (Hand Coffee Mill)'}}, {'rating': 5.0, 'reviewer_name': 'stampmom9 Dawn Gallop', 'product_id': 'B00004SPD9', 'review_title': 'Wonderful coffee grinder!', 'review_time': '03 3, 2016', 'images': ['https://images-na.ssl-images-amazon.com/images/I/71YBeh+J1rL._SY88.jpg'], 'styles': {'Color:': ' Walnut'}}, {'rating': 4.0, 'reviewer_name': 'jason wheeler', 'product_id': 'B00004W4UQ', 'review_title': 'As described. Nice.', 'review_time': '07 6, 2016', 'images': ['https://images-na.ssl-images-amazon.com/images/I/71lxd+GJoEL._SY88.jpg'], 'styles': {'Package Quantity:': ' 1'}}, {'rating': 1.0, 'reviewer_name': 'Toni Bautista', 'product_id': 'B00005IBX9', 'review_title': 'Great but NOT PERFECT -missing Side water panel', 'review_time': '02 24, 2017', 'images': ['https://images-na.ssl-images-amazon.com/images/I/71X5NEjZG5L._SY88.jpg'], 'styles': {'Color:': ' Brushed Chrome'}}, {'rating': 5.0, 'reviewer_name': 'ERO - Edge', 'product_id': 'B00005IBX9', 'review_title': 'Holding up just fine.', 'review_time': '05 8, 2011', 'images': ['https://images-na.ssl-images-amazon.com/images/I/510LMp8tiqL._SY88.jpg'], 'styles': {'Color:': ' Brushed Chrome'}}, {'rating': 4.0, 'reviewer_name': 'Jittoku', 'product_id': 'B00005LM0T', 'review_title': 'Wonderful French Press, but not without its problems', 'review_time': '04 5, 2018', 'images': ['https://images-na.ssl-images-amazon.com/images/I/71in+P1+Q7L._SY88.jpg', 'https://images-na.ssl-images-amazon.com/images/I/71AS29KGbPL._SY88.jpg'], 'styles': {'Size:': ' 17 oz.', 'Package Type:': ' Standard Packaging'}}, {'rating': 5.0, 'reviewer_name': 'Nancy Howe', 'product_id': 'B00005LM0V', 'review_title': 'Wonderful for Special Occasions or Coffee Emergencies!', 'review_time': '05 13, 2015', 'images': ['https://images-na.ssl-images-amazon.com/images/I/61H3kUofLbL._SY88.jpg'], 'styles': {'Size:': ' 34 oz.', 'Color:': ' Gold'}}, {'rating': 1.0, 'reviewer_name': 'SAinVA', 'product_id': 'B00005LM0T', 'review_title': 'Too much waste', 'review_time': '09 7, 2017', 'images': ['https://images-na.ssl-images-amazon.com/images/I/71shZggLRHL._SY88.jpg'], 'styles': {'Size:': ' 34 oz.', 'Package Type:': ' Standard Packaging'}}, {'rating': 4.0, 'reviewer_name': 'Honest Rating', 'product_id': 'B00005LM0V', 'review_title': 'absolutely gorgeous!', 'review_time': '04 3, 2012', 'images': ['https://images-na.ssl-images-amazon.com/images/I/716bNNBjFSL._SY88.png'], 'styles': {'Size:': ' 34 oz.', 'Color:': ' Gold'}}, {'rating': 4.0, 'reviewer_name': 'Taylor Shmaylor', 'product_id': 'B00005LM0T', 'review_title': 'Nice and large, but a pain to press', 'review_time': '12 21, 2016', 'images': ['https://images-na.ssl-images-amazon.com/images/I/71H40hLOIZL._SY88.jpg', 'https://images-na.ssl-images-amazon.com/images/I/817jof9F7vL._SY88.jpg'], 'styles': {'Size:': ' 51 oz.', 'Package Type:': ' Standard Packaging'}}, {'rating': 1.0, 'reviewer_name': 'Silicon Valley', 'product_id': 'B00005LM0T', 'review_title': 'FRAME RUSTS WITHIN A FEW WEEKS', 'review_time': '03 10, 2016', 'images': ['https://images-na.ssl-images-amazon.com/images/I/71FREAeBLIL._SY88.jpg', 'https://images-na.ssl-images-amazon.com/images/I/71qkhDjseuL._SY88.jpg', 'https://images-na.ssl-images-amazon.com/images/I/7143mVMMoCL._SY88.jpg'], 'styles': {'Size:': ' 34 oz.', 'Package Type:': ' Standard Packaging'}}, {'rating': 5.0, 'reviewer_name': 'AA', 'product_id': 'B00005LM0T', 'review_title': 'A great way to get rich tasting coffee.', 'review_time': '12 7, 2015', 'images': ['https://images-na.ssl-images-amazon.com/images/I/51IabPZ-+2L._SY88.jpg'], 'styles': {'Size:': ' 51 oz.', 'Package Type:': ' Standard Packaging'}}, {'rating': 5.0, 'reviewer_name': 'Nicholas Driscoll', 'product_id': 'B00005LM0T', 'review_title': 'It makes a great cup of joe and looks as if it will ...', 'review_time': '11 11, 2015', 'images': ['https://images-na.ssl-images-amazon.com/images/I/71jfdlOLIxL._SY88.jpg'], 'styles': {'Size:': ' 12 oz.', 'Package Type:': ' Standard Packaging'}}, {'rating': 5.0, 'reviewer_name': 'Jan', 'product_id': 'B00005MF9C', 'review_title': \"... yet but bought what I think will be a better mug because it's stainless inside & out unlike the ...\", 'review_time': '07 13, 2017', 'images': ['https://images-na.ssl-images-amazon.com/images/I/61+FIYkLBIL._SY88.jpg'], 'styles': {'Color:': ' Black/Stainless Steel'}}, {'rating': 1.0, 'reviewer_name': 'Andrew Furlong', 'product_id': 'B00005MF9C', 'review_title': 'but instead ran along the underside of the part of the maker that holds the grounds and finally dropping at an angle at which a', 'review_time': '02 22, 2017', 'images': ['https://images-na.ssl-images-amazon.com/images/I/71kh1XatynL._SY88.jpg'], 'styles': {'Color:': ' Black/Stainless Steel'}}, {'rating': 5.0, 'reviewer_name': 'catherine', 'product_id': 'B00005MF9C', 'review_title': '1800 Cups and Still Going Strong!', 'review_time': '10 8, 2016', 'images': ['https://images-na.ssl-images-amazon.com/images/I/71UQk1cCY+L._SY88.jpg'], 'styles': {'Color:': ' Black/Stainless Steel'}}, {'rating': 2.0, 'reviewer_name': 'fred o.', 'product_id': 'B00005MF9C', 'review_title': 'Good purchase', 'review_time': '09 4, 2016', 'images': ['https://images-na.ssl-images-amazon.com/images/I/71tRehtvN+L._SY88.jpg', 'https://images-na.ssl-images-amazon.com/images/I/719K20U+MaL._SY88.jpg', 'https://images-na.ssl-images-amazon.com/images/I/71jd6yc1GdL._SY88.jpg'], 'styles': {'Color:': ' Black/White'}}, {'rating': 1.0, 'reviewer_name': 'fifrox', 'product_id': 'B00005MF9C', 'review_title': 'Works great for a week then fails!', 'review_time': '03 10, 2016', 'images': ['https://images-na.ssl-images-amazon.com/images/I/81QVkUT4hdL._SY88.jpg'], 'styles': {'Color:': ' Black/Stainless Steel'}}, {'rating': 4.0, 'reviewer_name': 'KV Trout', 'product_id': 'B00005MF9C', 'review_title': 'This is a really good coffee maker although poorly designed', 'review_time': '01 15, 2013', 'images': ['https://images-na.ssl-images-amazon.com/images/I/51-1nHWM3FL._SY88.jpg'], 'styles': {'Color:': ' Black/Stainless Steel'}}, {'rating': 4.0, 'reviewer_name': 'Sinister', 'product_id': 'B00005NCX5', 'review_title': 'So far, so good!', 'review_time': '09 9, 2017', 'images': ['https://images-na.ssl-images-amazon.com/images/I/71i48+HIQYL._SY88.jpg'], 'styles': {'Style Name:': ' Coffee Maker'}}, {'rating': 5.0, 'reviewer_name': 'Dale E. Hammerschmidt', 'product_id': 'B00005NCWY', 'review_title': 'A terrific pan for baking Gugelhupf', 'review_time': '03 13, 2017', 'images': ['https://images-na.ssl-images-amazon.com/images/I/81xWjiIDOpL._SY88.jpg'], 'styles': {'Style Name:': ' Bavarian'}}, {'rating': 1.0, 'reviewer_name': 'cas', 'product_id': 'B00005NCWQ', 'review_title': 'Garbage!!!', 'review_time': '03 26, 2018', 'images': ['https://images-na.ssl-images-amazon.com/images/I/71Bxydi3DQL._SY88.jpg'], 'styles': {'Size:': ' 8-Cup'}}, {'rating': 3.0, 'reviewer_name': 'Travis F.', 'product_id': 'B00005NCWQ', 'review_title': 'Does not work with Induction', 'review_time': '03 10, 2018', 'images': ['https://images-na.ssl-images-amazon.com/images/I/71Oqvd7OPdL._SY88.jpg', 'https://images-na.ssl-images-amazon.com/images/I/71imtEXj8pL._SY88.jpg'], 'styles': {'Size:': ' 8-Cup'}}, {'rating': 5.0, 'reviewer_name': 'Amazon Customer', 'product_id': 'B00005NCWQ', 'review_title': 'Clean look.', 'review_time': '07 23, 2017', 'images': ['https://images-na.ssl-images-amazon.com/images/I/719iwV+++SL._SY88.jpg', 'https://images-na.ssl-images-amazon.com/images/I/710uNQXmpyL._SY88.jpg'], 'styles': {'Size:': ' 8-Cup'}}, {'rating': 5.0, 'reviewer_name': 'Jean-Claude Van Darn', 'product_id': 'B00005NCWQ', 'review_title': 'Well made with a charming nostalgic design.', 'review_time': '05 22, 2017', 'images': ['https://images-na.ssl-images-amazon.com/images/I/613Dj78CiqL._SY88.jpg'], 'styles': {'Size:': ' 8-Cup'}}, {'rating': 4.0, 'reviewer_name': 'Chief', 'product_id': 'B00005NCWQ', 'review_title': 'Farberware Yosemite Percolator', 'review_time': '04 29, 2017', 'images': ['https://images-na.ssl-images-amazon.com/images/I/615l-Cs9elL._SY88.jpg'], 'styles': {'Size:': ' 8-Cup'}}, {'rating': 5.0, 'reviewer_name': 'dvrmasik', 'product_id': 'B00005NCWQ', 'review_title': 'rich and aromatic coffee', 'review_time': '05 5, 2016', 'images': ['https://images-na.ssl-images-amazon.com/images/I/81fgcTsXRwL._SY88.jpg', 'https://images-na.ssl-images-amazon.com/images/I/81bsfG7k7kL._SY88.jpg'], 'styles': {'Size:': ' 8-Cup'}}, {'rating': 5.0, 'reviewer_name': 'Tommygun', 'product_id': 'B00005NCWQ', 'review_title': 'Makes terrific coffee!', 'review_time': '05 5, 2015', 'images': ['https://images-na.ssl-images-amazon.com/images/I/81IiiimYqNL._SY88.jpg'], 'styles': {'Size:': ' 8-Cup'}}, {'rating': 5.0, 'reviewer_name': 'Marilyn', 'product_id': 'B00005NCWQ', 'review_title': 'Best coffee...Love it!', 'review_time': '04 27, 2015', 'images': ['https://images-na.ssl-images-amazon.com/images/I/71imaNbUlvL._SY88.jpg'], 'styles': {'Size:': ' 8-Cup'}}, {'rating': 5.0, 'reviewer_name': 'Howright', 'product_id': 'B00005NCWQ', 'review_title': \"Best purchase I've made in a long time!\", 'review_time': '09 7, 2012', 'images': ['https://images-na.ssl-images-amazon.com/images/I/417LVTzsk3L._SY88.jpg', 'https://images-na.ssl-images-amazon.com/images/I/61LX5gTz0WL._SY88.jpg', 'https://images-na.ssl-images-amazon.com/images/I/51xXobRMjKL._SY88.jpg', 'https://images-na.ssl-images-amazon.com/images/I/71rJSPhJiQL._SY88.jpg'], 'styles': {'Size:': ' 8-Cup'}}, {'rating': 3.0, 'reviewer_name': 'Peter DP', 'product_id': 'B00005OTXM', 'review_title': \"Mr. Coffee DWX23 12-cup doesn't have the quality feel as my 13 year old nearly identical 12-cup Mr. Coffee\", 'review_time': '04 17, 2015', 'images': ['https://images-na.ssl-images-amazon.com/images/I/71sFKwTW9sL._SY88.jpg'], 'styles': {'Style Name:': ' COFFEE MAKER ONLY'}}, {'rating': 1.0, 'reviewer_name': 'GoClick', 'product_id': 'B00005OTXM', 'review_title': 'Returned - produced revolting burnt plastic flavored coffee, and seemed flawed.', 'review_time': '04 16, 2015', 'images': ['https://images-na.ssl-images-amazon.com/images/I/71o+7Zru+iL._SY88.jpg', 'https://images-na.ssl-images-amazon.com/images/I/81sbfP4tc8L._SY88.jpg', 'https://images-na.ssl-images-amazon.com/images/I/71vhOebyGaL._SY88.jpg'], 'styles': {'Style Name:': ' COFFEE MAKER ONLY'}}, {'rating': 5.0, 'reviewer_name': 'A. Kronberg', 'product_id': 'B00005OTXY', 'review_title': 'this pot did a great job of boiling water in 20 minutes', 'review_time': '09 4, 2017', 'images': ['https://images-na.ssl-images-amazon.com/images/I/71jzwfSoRiL._SY88.jpg'], 'styles': {'Size:': ' One Size', 'Color:': ' Black'}}, {'rating': 5.0, 'reviewer_name': 'Wyo Steve', 'product_id': 'B00005RKOF', 'review_title': 'Perfect coffee water measuring cup', 'review_time': '12 23, 2015', 'images': ['https://images-na.ssl-images-amazon.com/images/I/718MLN9OSxL._SY88.jpg'], 'styles': {'Size:': ' 4 Cup'}}, {'rating': 5.0, 'reviewer_name': 'Melissa Coy', 'product_id': 'B00005U2DO', 'review_title': 'Best piece of furniture my daughter has!', 'review_time': '03 13, 2017', 'images': ['https://images-na.ssl-images-amazon.com/images/I/71rb1uAvjBL._SY88.jpg', 'https://images-na.ssl-images-amazon.com/images/I/716AxHe-idL._SY88.jpg'], 'styles': {'Size:': ' 1', 'Color:': ' White'}}, {'rating': 3.0, 'reviewer_name': 'Donald E. Fulton', 'product_id': 'B00005V3BM', 'review_title': 'Simple, 4 cup coffee maker, looks nice, difficult basket hinge', 'review_time': '08 25, 2012', 'images': ['https://images-na.ssl-images-amazon.com/images/I/51egXCgLkOL._SY88.jpg', 'https://images-na.ssl-images-amazon.com/images/I/51WvgNVi5kL._SY88.jpg'], 'styles': {'Color:': ' Black'}}, {'rating': 5.0, 'reviewer_name': 'KMac', 'product_id': 'B00005YY9X', 'review_title': 'If you want to keep it hot, get this one.', 'review_time': '03 25, 2016', 'images': ['https://images-na.ssl-images-amazon.com/images/I/515O4b7qYYL._SY88.jpg', 'https://images-na.ssl-images-amazon.com/images/I/613jmjPEGuL._SY88.jpg', 'https://images-na.ssl-images-amazon.com/images/I/61ML+yO6EPL._SY88.jpg', 'https://images-na.ssl-images-amazon.com/images/I/61uflGldJcL._SY88.jpg'], 'styles': {'Size:': ' 51 oz.'}}, {'rating': 3.0, 'reviewer_name': 'agihawaii', 'product_id': 'B00005YY9X', 'review_title': \"It's 4 measuring cups.\", 'review_time': '09 24, 2015', 'images': ['https://images-na.ssl-images-amazon.com/images/I/71v0PQUwVpL._SY88.jpg', 'https://images-na.ssl-images-amazon.com/images/I/71I0U4nTqJL._SY88.jpg', 'https://images-na.ssl-images-amazon.com/images/I/71z3rQySZ0L._SY88.jpg'], 'styles': {'Size:': ' 34 oz.'}}, {'rating': 5.0, 'reviewer_name': 'Alice Wakefield', 'product_id': 'B00005YY9X', 'review_title': '12 years of heavy use - lasted longer than ex-husband', 'review_time': '10 6, 2007', 'images': ['https://images-na.ssl-images-amazon.com/images/I/51+LtjCP8HL._SY88.jpg'], 'styles': {'Size:': ' 34 oz.'}}, {'rating': 5.0, 'reviewer_name': 'Cherie E.', 'product_id': 'B000063SRL', 'review_title': 'More than just a cutting board!', 'review_time': '08 10, 2016', 'images': ['https://images-na.ssl-images-amazon.com/images/I/61oleNoBZ7L._SY88.jpg', 'https://images-na.ssl-images-amazon.com/images/I/71FumLGotfL._SY88.jpg', 'https://images-na.ssl-images-amazon.com/images/I/71MHMHDel+L._SY88.jpg', 'https://images-na.ssl-images-amazon.com/images/I/61gZsMGlRlL._SY88.jpg', 'https://images-na.ssl-images-amazon.com/images/I/61QVdUMKB2L._SY88.jpg'], 'styles': {'Size:': ' 14 by 17 inches', 'Color:': ' Granite Color'}}, {'rating': 5.0, 'reviewer_name': 'A. Sullivan', 'product_id': 'B000063SSI', 'review_title': 'Hand wash only', 'review_time': '06 10, 2015', 'images': ['https://images-na.ssl-images-amazon.com/images/I/71j9qBm514L._SY88.jpg'], 'styles': {'Package Quantity:': ' 1'}}, {'rating': 2.0, 'reviewer_name': 'Picks n Pans', 'product_id': 'B00006F2LW', 'review_title': 'Cracked lid out of the box', 'review_time': '02 27, 2008', 'images': ['https://images-na.ssl-images-amazon.com/images/I/317fvUiuNDL._SY88.jpg'], 'styles': {'Color:': ' Black'}}, {'rating': 5.0, 'reviewer_name': 'Kindle Customer', 'product_id': 'B00006IFQJ', 'review_title': 'I love this small butter pot', 'review_time': '05 18, 2016', 'images': ['https://images-na.ssl-images-amazon.com/images/I/71vU2ujX1hL._SY88.jpg', 'https://images-na.ssl-images-amazon.com/images/I/71UpfzCjryL._SY88.jpg'], 'styles': {'Size:': ' None', 'Color:': ' Silver'}}, {'rating': 5.0, 'reviewer_name': 'Terri S', 'product_id': 'B00006IFQJ', 'review_title': 'Perfect for those people who care about their time in the kitchen', 'review_time': '04 27, 2016', 'images': ['https://images-na.ssl-images-amazon.com/images/I/81dX1CZUbkL._SY88.jpg', 'https://images-na.ssl-images-amazon.com/images/I/813g2O-7M4L._SY88.jpg'], 'styles': {'Size:': ' None', 'Color:': ' Silver'}}, {'rating': 5.0, 'reviewer_name': 'Susan C', 'product_id': 'B00006IFQJ', 'review_title': 'I LOVE THIS LITTLE POT!!!', 'review_time': '04 10, 2016', 'images': ['https://images-na.ssl-images-amazon.com/images/I/61ATK5Xz2zL._SY88.jpg'], 'styles': {'Size:': ' None', 'Color:': ' Silver'}}, {'rating': 4.0, 'reviewer_name': 'Kort', 'product_id': 'B00006IZY5', 'review_title': 'Good Gift For A Coffee Connoisseur On Your List', 'review_time': '10 5, 2017', 'images': ['https://images-na.ssl-images-amazon.com/images/I/71gkR6uADvL._SY88.jpg', 'https://images-na.ssl-images-amazon.com/images/I/61EFi0ZC8AL._SY88.jpg', 'https://images-na.ssl-images-amazon.com/images/I/71R4QHP3XKL._SY88.jpg'], 'styles': {'Style Name:': ' Travel Mug'}}, {'rating': 2.0, 'reviewer_name': 'LMM', 'product_id': 'B00008ELEA', 'review_title': 'smelled like the cord was burning', 'review_time': '06 6, 2016', 'images': ['https://images-na.ssl-images-amazon.com/images/I/51xXENQhIGL._SY88.jpg'], 'styles': {'Size:': ' 4-Cup'}}, {'rating': 5.0, 'reviewer_name': 'Samuel D. Self', 'product_id': 'B00009ADDR', 'review_title': 'Very sturdy, very heavy construction, will last a lifetime.', 'review_time': '04 17, 2018', 'images': ['https://images-na.ssl-images-amazon.com/images/I/71C5rEGDqfL._SY88.jpg', 'https://images-na.ssl-images-amazon.com/images/I/71rsteNCgfL._SY88.jpg', 'https://images-na.ssl-images-amazon.com/images/I/71B4oTj4qQL._SY88.jpg'], 'styles': {'Size:': ' 44 Ounce', 'Color:': ' Brushed'}}, {'rating': 5.0, 'reviewer_name': 'Rob S.', 'product_id': 'B00009ADDR', 'review_title': 'Blacker than the picture on Amazon looks!', 'review_time': '07 14, 2017', 'images': ['https://images-na.ssl-images-amazon.com/images/I/71CR7TbQfqL._SY88.jpg'], 'styles': {'Size:': ' 23 Ounce', 'Color:': ' Black Metallic'}}, {'rating': 4.0, 'reviewer_name': 'Dave Lakhani', 'product_id': 'B00009ADDR', 'review_title': 'Beautiful, Well Designed Press But Really Only Big Enough For About Two Regular Cups Of Coffee', 'review_time': '11 9, 2016', 'images': ['https://images-na.ssl-images-amazon.com/images/I/61Am8Yh09VL._SY88.jpg'], 'styles': {'Size:': ' 17 Ounce', 'Color:': ' Polished'}}, {'rating': 5.0, 'reviewer_name': 'J. Sullivan', 'product_id': 'B00009ADDR', 'review_title': 'Impressive Filtration and Exceptionally High Quality', 'review_time': '11 4, 2016', 'images': ['https://images-na.ssl-images-amazon.com/images/I/41ESEiuFMHL._SY88.jpg'], 'styles': {'Size:': ' 17 Ounce', 'Color:': ' Polished'}}, {'rating': 5.0, 'reviewer_name': 'Michael Z (QA Engineer)', 'product_id': 'B00009ADDR', 'review_title': 'One great French Press coffee maker', 'review_time': '07 9, 2016', 'images': ['https://images-na.ssl-images-amazon.com/images/I/71PPtdi9tKL._SY88.jpg', 'https://images-na.ssl-images-amazon.com/images/I/71bj92rH3qL._SY88.jpg'], 'styles': {'Size:': ' 23-Ounce', 'Color:': ' Brushed'}}, {'rating': 5.0, 'reviewer_name': 'DDPartington', 'product_id': 'B00009ADDR', 'review_title': 'Exceptional Brewer for those wanting a Minimilistic approach for Great Coffee!', 'review_time': '12 29, 2015', 'images': ['https://images-na.ssl-images-amazon.com/images/I/71aup0OQx0L._SY88.jpg'], 'styles': {'Size:': ' 36 Ounce', 'Color:': ' Polished'}}, {'rating': 4.0, 'reviewer_name': 'Nadia M', 'product_id': 'B00009ADDR', 'review_title': \"Excellent Quality Press but it's not TWO CUPS!!!\", 'review_time': '10 14, 2013', 'images': ['https://images-na.ssl-images-amazon.com/images/I/61yzqQx-8ML._SY88.jpg'], 'styles': {'Size:': ' 17-Ounce', 'Color:': ' Polished'}}, {'rating': 5.0, 'reviewer_name': 'Thicket', 'product_id': 'B00009ADDR', 'review_title': 'This press is stout!', 'review_time': '12 4, 2007', 'images': ['https://images-na.ssl-images-amazon.com/images/I/41xt8zREjbL._SY88.jpg'], 'styles': {'Size:': ' 36-Ounce', 'Color:': ' Polished'}}, {'rating': 5.0, 'reviewer_name': 'barkingburro', 'product_id': 'B00009OWEV', 'review_title': 'One of the best ways to brew coffee', 'review_time': '12 28, 2009', 'images': ['https://images-na.ssl-images-amazon.com/images/I/41+Tpr2PULL._SY88.jpg', 'https://images-na.ssl-images-amazon.com/images/I/61tcKszhiFL._SY88.jpg'], 'styles': {'Size:': ' 1-Liter', 'Color:': ' Black'}}, {'rating': 5.0, 'reviewer_name': 'FarmD', 'product_id': 'B00009RXMQ', 'review_title': 'Fairly simple to use and cheaper than going to starbucks', 'review_time': '07 19, 2013', 'images': ['https://images-na.ssl-images-amazon.com/images/I/61zqVv0geSL._SY88.png', 'https://images-na.ssl-images-amazon.com/images/I/81KT-A-ybUL._SY88.png', 'https://images-na.ssl-images-amazon.com/images/I/81WPg4z-zPL._SY88.png', 'https://images-na.ssl-images-amazon.com/images/I/51-1v4azTTL._SY88.jpg', 'https://images-na.ssl-images-amazon.com/images/I/51zLmSR8sdL._SY88.jpg'], 'styles': {'Color:': ' Black'}}, {'rating': 5.0, 'reviewer_name': 'John', 'product_id': 'B00009V4FI', 'review_title': 'Does the trick and is very attractive', 'review_time': '11 23, 2012', 'images': ['https://images-na.ssl-images-amazon.com/images/I/61z9nGr0irL._SY88.jpg'], 'styles': {'Size:': ' 16 Ounce', 'Package Quantity:': ' 1'}}, {'rating': 5.0, 'reviewer_name': 'Carly R.', 'product_id': 'B00009V4FI', 'review_title': 'Does the Job', 'review_time': '08 27, 2012', 'images': ['https://images-na.ssl-images-amazon.com/images/I/517Z35F4+lL._SY88.jpg', 'https://images-na.ssl-images-amazon.com/images/I/51kLrPCyqrL._SY88.jpg'], 'styles': {'Size:': ' 32 Ounce', 'Package Quantity:': ' 1'}}, {'rating': 5.0, 'reviewer_name': 'Bill', 'product_id': 'B0000A1ZMS', 'review_title': \"Nothin' Wrong This!\", 'review_time': '03 26, 2017', 'images': ['https://images-na.ssl-images-amazon.com/images/I/71SeAR4TQpL._SY88.jpg', 'https://images-na.ssl-images-amazon.com/images/I/713OdFQilbL._SY88.jpg'], 'styles': {'Color:': ' Black', 'Style Name:': ' Coffeemaker'}}, {'rating': 1.0, 'reviewer_name': 'Marcia S.', 'product_id': 'B0000A1ZMS', 'review_title': 'Look what happened to this once great Cuisinart coffeemaker.', 'review_time': '11 12, 2016', 'images': ['https://images-na.ssl-images-amazon.com/images/I/51B8eue4nHL._SY88.jpg', 'https://images-na.ssl-images-amazon.com/images/I/519NziREFIL._SY88.jpg', 'https://images-na.ssl-images-amazon.com/images/I/51v+A1zWqTL._SY88.jpg'], 'styles': {'Color:': ' Black', 'Style Name:': ' Coffeemaker'}}, {'rating': 4.0, 'reviewer_name': 'Mr. Walker', 'product_id': 'B0000A1ZMS', 'review_title': 'Good flavor, strength, and temp.; can get HOT', 'review_time': '03 5, 2014', 'images': ['https://images-na.ssl-images-amazon.com/images/I/51xMBNHSSoL._SY88.jpg', 'https://images-na.ssl-images-amazon.com/images/I/41GZeQPMW0L._SY88.jpg', 'https://images-na.ssl-images-amazon.com/images/I/41LurFC9+PL._SY88.jpg', 'https://images-na.ssl-images-amazon.com/images/I/51PxqDbouML._SY88.jpg'], 'styles': {'Color:': ' Black', 'Style Name:': ' Coffeemaker'}}, {'rating': 5.0, 'reviewer_name': 'mamacarla', 'product_id': 'B0000A1ZMS', 'review_title': 'Cute, functional', 'review_time': '01 3, 2014', 'images': ['https://images-na.ssl-images-amazon.com/images/I/71hUhHKHgQL._SY88.jpg'], 'styles': {'Color:': ' Pink', 'Style Name:': ' Coffeemaker'}}, {'rating': 2.0, 'reviewer_name': 'Jimmie', 'product_id': 'B0000A1ZMS', 'review_title': 'Leaks and more', 'review_time': '01 13, 2011', 'images': ['https://images-na.ssl-images-amazon.com/images/I/51U4K+PzETL._SY88.jpg'], 'styles': {'Color:': ' Black', 'Style Name:': ' Coffeemaker'}}, {'rating': 5.0, 'reviewer_name': 'Noah Boddy', 'product_id': 'B0000AN4CO', 'review_title': 'Keeps the air out of there!', 'review_time': '09 7, 2016', 'images': ['https://images-na.ssl-images-amazon.com/images/I/71gmvQNa1tL._SY88.jpg', 'https://images-na.ssl-images-amazon.com/images/I/71RSpp+yRNL._SY88.jpg', 'https://images-na.ssl-images-amazon.com/images/I/71i-w1td8pL._SY88.jpg'], 'styles': {'Size:': ' 6.1 x 6.1 x 10.1\"'}}, {'rating': 5.0, 'reviewer_name': 'Julie Freeman', 'product_id': 'B0000CCQKV', 'review_title': 'Awesome product...great price!', 'review_time': '08 17, 2016', 'images': ['https://images-na.ssl-images-amazon.com/images/I/613WVFu8KDL._SY88.jpg'], 'styles': {'Size:': ' 2 Bundlers'}}, {'rating': 4.0, 'reviewer_name': 'Homer', 'product_id': 'B0000CFFS6', 'review_title': 'Works great once you figure out how to take it off', 'review_time': '01 2, 2016', 'images': ['https://images-na.ssl-images-amazon.com/images/I/71l3LH-AH4L._SY88.jpg'], 'styles': {'Style Name:': ' Regular Mouth'}}, {'rating': 5.0, 'reviewer_name': 'Crystal', 'product_id': 'B0000CFLCT', 'review_title': 'Exactly what I needed', 'review_time': '04 23, 2018', 'images': ['https://images-na.ssl-images-amazon.com/images/I/61ennMa+zML._SY88.jpg'], 'styles': {'Size:': ' Pack of 1', 'Style:': ' 6 Cup Cone with Glass Carafe'}}, {'rating': 5.0, 'reviewer_name': 'D. Currie', 'product_id': 'B0000CFLCT', 'review_title': 'I absolutely love this!  Makes delicious coffee even if the power goes out.', 'review_time': '09 20, 2017', 'images': ['https://images-na.ssl-images-amazon.com/images/I/81pvv9VQw3L._SY88.jpg'], 'styles': {'Size:': ' Pack of 1', 'Style:': ' 6 Cup Cone with Glass Carafe'}}]\n"
     ]
    }
   ],
   "source": [
    "print(reviews)"
   ]
  },
  {
   "cell_type": "code",
   "execution_count": 13,
   "metadata": {},
   "outputs": [
    {
     "data": {
      "text/plain": [
       "86"
      ]
     },
     "execution_count": 13,
     "metadata": {},
     "output_type": "execute_result"
    }
   ],
   "source": [
    "# Replace None with appropriate code\n",
    "num_reviews = len(reviews) \n",
    "num_reviews"
   ]
  },
  {
   "cell_type": "code",
   "execution_count": 14,
   "metadata": {},
   "outputs": [
    {
     "name": "stdout",
     "output_type": "stream",
     "text": [
      "The coffee product review dataset contains 86 reviews\n"
     ]
    }
   ],
   "source": [
    "# Run this cell without changes\n",
    "print(\"The coffee product review dataset contains {} reviews\".format(num_reviews))"
   ]
  },
  {
   "cell_type": "markdown",
   "metadata": {},
   "source": [
    "Ok, so now we know how many records we are working with! Let's investigate what each record looks like. In the cell below, replace `None` with appropriate code to select the first review"
   ]
  },
  {
   "cell_type": "code",
   "execution_count": 17,
   "metadata": {},
   "outputs": [
    {
     "data": {
      "text/plain": [
       "{'rating': 5.0,\n",
       " 'reviewer_name': 'Sns073194',\n",
       " 'product_id': 'B00004RFRV',\n",
       " 'review_title': 'Perfect cafsito every time',\n",
       " 'review_time': '03 11, 2018',\n",
       " 'images': ['https://images-na.ssl-images-amazon.com/images/I/71d2cQEgJsL._SY88.jpg'],\n",
       " 'styles': {'Size:': ' 6-Cup', 'Color:': ' Silver'}}"
      ]
     },
     "execution_count": 17,
     "metadata": {},
     "output_type": "execute_result"
    }
   ],
   "source": [
    "# Replace None with appropriate code\n",
    "first_review = reviews[0]\n",
    "first_review"
   ]
  },
  {
   "cell_type": "markdown",
   "metadata": {},
   "source": [
    "Now we can check out the keys:"
   ]
  },
  {
   "cell_type": "code",
   "execution_count": 18,
   "metadata": {},
   "outputs": [
    {
     "data": {
      "text/plain": [
       "dict_keys(['rating', 'reviewer_name', 'product_id', 'review_title', 'review_time', 'images', 'styles'])"
      ]
     },
     "execution_count": 18,
     "metadata": {},
     "output_type": "execute_result"
    }
   ],
   "source": [
    "# Run this cell without changes\n",
    "first_review.keys()"
   ]
  },
  {
   "cell_type": "code",
   "execution_count": 28,
   "metadata": {},
   "outputs": [
    {
     "data": {
      "text/plain": [
       "str"
      ]
     },
     "execution_count": 28,
     "metadata": {},
     "output_type": "execute_result"
    }
   ],
   "source": [
    "type('rating')"
   ]
  },
  {
   "cell_type": "markdown",
   "metadata": {},
   "source": [
    "Before looking at the answer below, try to identify: **what data type are all of these keys?**\n",
    "\n",
    ".\n",
    "\n",
    ".\n",
    "\n",
    ".\n",
    "\n",
    "*Answer: They are all strings. We can tell because they are surrounded by single quotes, e.g. `'rating'`)*\n",
    "\n",
    "Now let's look at the values:"
   ]
  },
  {
   "cell_type": "code",
   "execution_count": 20,
   "metadata": {},
   "outputs": [
    {
     "data": {
      "text/plain": [
       "dict_values([5.0, 'Sns073194', 'B00004RFRV', 'Perfect cafsito every time', '03 11, 2018', ['https://images-na.ssl-images-amazon.com/images/I/71d2cQEgJsL._SY88.jpg'], {'Size:': ' 6-Cup', 'Color:': ' Silver'}])"
      ]
     },
     "execution_count": 20,
     "metadata": {},
     "output_type": "execute_result"
    }
   ],
   "source": [
    "# Run this cell without changes\n",
    "first_review.values()"
   ]
  },
  {
   "cell_type": "code",
   "execution_count": 32,
   "metadata": {},
   "outputs": [
    {
     "data": {
      "text/plain": [
       "dict"
      ]
     },
     "execution_count": 32,
     "metadata": {},
     "output_type": "execute_result"
    }
   ],
   "source": [
    "type({'Size:': ' 6-Cup', 'Color:': ' Silver'})"
   ]
  },
  {
   "cell_type": "markdown",
   "metadata": {},
   "source": [
    "Before looking at the answer below, try to identify: **what data type are all of these values?**\n",
    "\n",
    ".\n",
    "\n",
    ".\n",
    "\n",
    ".\n",
    "\n",
    "*Answer: We have a mix of values* \n",
    " - *The first one, `5.0`, is a float (no quotes or brackets, decimal place at the end)*\n",
    " - *The next four are strings*\n",
    " - *The fifth is a list. We can tell because it's surrounded by square brackets `[]`. Inside that list is a string.*\n",
    " - *The last one is a dictionary. We can tell because it's surrounded by curly braces `{}` and colons indicating key-value pairs. All of the keys and values are strings in this nested dictionary.*\n",
    " "
   ]
  },
  {
   "cell_type": "markdown",
   "metadata": {},
   "source": [
    "Finally, let's look at the first five reviews, all at once:"
   ]
  },
  {
   "cell_type": "code",
   "execution_count": 30,
   "metadata": {},
   "outputs": [
    {
     "name": "stdout",
     "output_type": "stream",
     "text": [
      "{'rating': 5.0, 'reviewer_name': 'Sns073194', 'product_id': 'B00004RFRV', 'review_title': 'Perfect cafsito every time', 'review_time': '03 11, 2018', 'images': ['https://images-na.ssl-images-amazon.com/images/I/71d2cQEgJsL._SY88.jpg'], 'styles': {'Size:': ' 6-Cup', 'Color:': ' Silver'}}\n",
      "{'rating': 5.0, 'reviewer_name': 'Maverick', 'product_id': 'B00004RFRV', 'review_title': 'Delicious results from a wonderfully simple Bialetti Moka Express!', 'review_time': '12 3, 2017', 'images': ['https://images-na.ssl-images-amazon.com/images/I/61NG30sWdJL._SY88.jpg'], 'styles': {'Size:': ' 1-Cup', 'Color:': ' Silver'}}\n",
      "{'rating': 5.0, 'reviewer_name': 'Karen', 'product_id': 'B00004RFRV', 'review_title': 'Bialetti is the Best!', 'review_time': '11 12, 2017', 'images': ['https://images-na.ssl-images-amazon.com/images/I/81+XxFRGyBL._SY88.jpg'], 'styles': {'Size:': ' 12-Cup', 'Color:': ' Silver'}}\n",
      "{'rating': 5.0, 'reviewer_name': 'Feles (muy Mala)', 'product_id': 'B00004RFRV', 'review_title': 'Awesome portion control for one person!', 'review_time': '08 5, 2017', 'images': ['https://images-na.ssl-images-amazon.com/images/I/71BcwbkGyfL._SY88.jpg'], 'styles': {'Size:': ' 6-Cup', 'Color:': ' Purple'}}\n",
      "{'rating': 1.0, 'reviewer_name': 'EJ', 'product_id': 'B00004RFRV', 'review_title': 'Rusted spots everywhere fresh out the box...nasty', 'review_time': '06 4, 2017', 'images': ['https://images-na.ssl-images-amazon.com/images/I/71Dbr6X0bYL._SY88.jpg'], 'styles': {'Size:': ' 9-Cup', 'Color:': ' Silver'}}\n"
     ]
    }
   ],
   "source": [
    "# Run this cell without changes\n",
    "for index in range(5):\n",
    "    print(reviews[index])"
   ]
  },
  {
   "cell_type": "markdown",
   "metadata": {},
   "source": [
    "It looks like each review has the same structure as the first one.\n",
    "\n",
    "Edit the string below to describe what we've learned about the dataset so far:"
   ]
  },
  {
   "cell_type": "code",
   "execution_count": 33,
   "metadata": {},
   "outputs": [
    {
     "data": {
      "text/plain": [
       "'\\nFor this analysis, we are using a dataset collected from <Amazon> by <Computer Science researchers>\\n\\nEach record represents a <Review>\\n\\nThere are a total of <86> records\\n\\nEach record has <7> keys, all of which are type <str>\\n\\nThe values associated with these keys have mixed types: <float>, <int>, <str>, and <dict>\\n'"
      ]
     },
     "execution_count": 33,
     "metadata": {},
     "output_type": "execute_result"
    }
   ],
   "source": [
    "# Replace <None> with an appropriate explanation\n",
    "\"\"\"\n",
    "For this analysis, we are using a dataset collected from <Amazon> by <Computer Science researchers>\n",
    "\n",
    "Each record represents a <Review>\n",
    "\n",
    "There are a total of <86> records\n",
    "\n",
    "Each record has <7> keys, all of which are type <str>\n",
    "\n",
    "The values associated with these keys have mixed types: <float>, <int>, <str>, and <dict>\n",
    "\"\"\""
   ]
  },
  {
   "cell_type": "markdown",
   "metadata": {},
   "source": [
    "## Review Selection\n",
    "\n",
    "Now that we have a general sense of what is contained in our dataset, let's implement a system for a user to be able to query for an individual record. For now, assume that the user can edit the value of a variable in this Jupyter Notebook.\n",
    "\n",
    "In the cell below, create a variable called `review_index` and set it to the value of `2`\n",
    "\n",
    "(Why are we bothering to use a variable, if we're just \"hard-coding\" it to 2? Because it's helpful to practice *parameterizing* our code, i.e. using variables that can have their values substituted rather than using the values directly.)"
   ]
  },
  {
   "cell_type": "code",
   "execution_count": 66,
   "metadata": {},
   "outputs": [
    {
     "data": {
      "text/plain": [
       "2"
      ]
     },
     "execution_count": 66,
     "metadata": {},
     "output_type": "execute_result"
    }
   ],
   "source": [
    "# Your code here\n",
    "review_index = 2\n",
    "review_index"
   ]
  },
  {
   "cell_type": "markdown",
   "metadata": {},
   "source": [
    "Now let's use that review index to create a variable `selected_review` that extracts the relevant review dictionary from the list of review dictionaries"
   ]
  },
  {
   "cell_type": "code",
   "execution_count": 67,
   "metadata": {},
   "outputs": [
    {
     "data": {
      "text/plain": [
       "{'rating': 5.0,\n",
       " 'reviewer_name': 'Karen',\n",
       " 'product_id': 'B00004RFRV',\n",
       " 'review_title': 'Bialetti is the Best!',\n",
       " 'review_time': '11 12, 2017',\n",
       " 'images': ['https://images-na.ssl-images-amazon.com/images/I/81+XxFRGyBL._SY88.jpg'],\n",
       " 'styles': {'Size:': ' 12-Cup', 'Color:': ' Silver'}}"
      ]
     },
     "execution_count": 67,
     "metadata": {},
     "output_type": "execute_result"
    }
   ],
   "source": [
    "# Replace None with appropriate code\n",
    "selected_review = reviews[review_index]\n",
    "selected_review"
   ]
  },
  {
   "cell_type": "markdown",
   "metadata": {},
   "source": [
    "## Review Summary\n",
    "\n",
    "So far we have investigated the structure of our data, and written reusable code to extract a single review from the list. This allowed us to practice identifying data types and extracting information from nested lists and dictionaries.\n",
    "\n",
    "Now it's time to practice two other key skills: **conditionals** and **string parsing** (and optionally, learn how to display images with Python code in a Jupyter Notebook).\n",
    "\n",
    "We'll do this by **writing code to summarize a given review dictionary** in a more user-friendly way than the original raw dictionary format, practicing some data cleaning along the way.\n",
    "\n",
    "### Positive, Negative, or Neutral\n",
    "\n",
    "Using conditionals, let's display whether a given review is positive, negative, or neutral based on the value associated with the `rating` key. We'll use the following definitions:\n",
    "\n",
    " - Positive: `rating` value of 4 or 5 (out of 5)\n",
    " - Neutral: `rating` value of 3 (out of 5)\n",
    " - Negative: `rating` value of 1 or 2 (out of 5)\n",
    "\n",
    "Once you've found that value, print out: `This is a <blank> review` where `<blank>` is replaced with either `positive`, `negative`, or `neutral`.\n",
    "\n",
    "For example, with the current selection, the rating is 5.0, so we should print `This is a positive review`.\n",
    "\n",
    "First, let's extract the rating from the `selected_review` variable:"
   ]
  },
  {
   "cell_type": "code",
   "execution_count": 68,
   "metadata": {},
   "outputs": [
    {
     "data": {
      "text/plain": [
       "5.0"
      ]
     },
     "execution_count": 68,
     "metadata": {},
     "output_type": "execute_result"
    }
   ],
   "source": [
    "# Replace None with appropriate code\n",
    "selected_rating = selected_review['rating']\n",
    "selected_rating"
   ]
  },
  {
   "cell_type": "markdown",
   "metadata": {},
   "source": [
    "Now, in the cell below, write code using `selected_rating`, `if`, `elif` and `else` so that when `selected_rating` changes value, it will print out the right `This is a <blank> review` statement.\n",
    "\n",
    "(Again, since the current value of `selected_rating` == 5.0, your code should print out `This is a positive review`, but your code should be able to print different statements when `selected_rating` changes value!)"
   ]
  },
  {
   "cell_type": "code",
   "execution_count": 69,
   "metadata": {},
   "outputs": [
    {
     "name": "stdout",
     "output_type": "stream",
     "text": [
      "This is a positive review\n"
     ]
    }
   ],
   "source": [
    "# Your code here\n",
    "if selected_rating > 3:\n",
    "    print(\"This is a positive review\")\n",
    "elif selected_rating == 3:\n",
    "    print(\"This is a neutral review\")\n",
    "else:\n",
    "    print(\"This is a negative review\")"
   ]
  },
  {
   "cell_type": "markdown",
   "metadata": {},
   "source": [
    "Ok, now that this worked for a single example, let's try it out on a few others."
   ]
  },
  {
   "cell_type": "code",
   "execution_count": 71,
   "metadata": {},
   "outputs": [],
   "source": [
    "# Run this cell without changes\n",
    "review_index = 4\n",
    "selected_review = reviews[review_index]\n",
    "selected_rating = selected_review[\"rating\"]"
   ]
  },
  {
   "cell_type": "code",
   "execution_count": 72,
   "metadata": {},
   "outputs": [
    {
     "data": {
      "text/plain": [
       "1.0"
      ]
     },
     "execution_count": 72,
     "metadata": {},
     "output_type": "execute_result"
    }
   ],
   "source": [
    "selected_rating"
   ]
  },
  {
   "cell_type": "code",
   "execution_count": 63,
   "metadata": {},
   "outputs": [
    {
     "data": {
      "text/plain": [
       "1.0"
      ]
     },
     "execution_count": 63,
     "metadata": {},
     "output_type": "execute_result"
    }
   ],
   "source": [
    "selected_rating"
   ]
  },
  {
   "cell_type": "markdown",
   "metadata": {},
   "source": [
    "Paste your code from above to analyze the new selection. This one should say it's a negative review."
   ]
  },
  {
   "cell_type": "code",
   "execution_count": 73,
   "metadata": {},
   "outputs": [
    {
     "name": "stdout",
     "output_type": "stream",
     "text": [
      "This is a negative review\n"
     ]
    }
   ],
   "source": [
    "# Your code here (pasted from above)\n",
    "if selected_rating > 3:\n",
    "    print(\"This is a positive review\")\n",
    "elif selected_rating == 3:\n",
    "    print(\"This is a neutral review\")\n",
    "else:\n",
    "    print(\"This is a negative review\")"
   ]
  },
  {
   "cell_type": "markdown",
   "metadata": {},
   "source": [
    "Let's try one more, which should say it's a neutral review."
   ]
  },
  {
   "cell_type": "code",
   "execution_count": 74,
   "metadata": {},
   "outputs": [],
   "source": [
    "# Run this cell without changes\n",
    "review_index = 47\n",
    "selected_review = reviews[review_index]\n",
    "selected_rating = selected_review[\"rating\"]"
   ]
  },
  {
   "cell_type": "code",
   "execution_count": 76,
   "metadata": {},
   "outputs": [
    {
     "data": {
      "text/plain": [
       "3.0"
      ]
     },
     "execution_count": 76,
     "metadata": {},
     "output_type": "execute_result"
    }
   ],
   "source": [
    "selected_rating"
   ]
  },
  {
   "cell_type": "code",
   "execution_count": 75,
   "metadata": {},
   "outputs": [
    {
     "name": "stdout",
     "output_type": "stream",
     "text": [
      "This is a neutral review\n"
     ]
    }
   ],
   "source": [
    "# Your code here (pasted from above)\n",
    "if selected_rating > 3:\n",
    "    print(\"This is a positive review\")\n",
    "elif selected_rating == 3:\n",
    "    print(\"This is a neutral review\")\n",
    "else:\n",
    "    print(\"This is a negative review\")"
   ]
  },
  {
   "cell_type": "markdown",
   "metadata": {},
   "source": [
    "Great! We just practiced using conditionals to make a more user-friendly summary\n",
    "\n",
    "### Review Year\n",
    "\n",
    "While it may be less exciting than building machine learning models, a significant part of data science is data cleaning. Lets start to practice some data cleaning skills with the `review_time` key-value pairs.\n",
    "\n",
    "For the rest of this lab, we'll go ahead and set up three variables to represent the positive, negative, and neutral examples above.\n",
    "\n",
    "(Don't worry too much about this syntax; it uses \"unpacking\" and \"list comprehensions\", which we haven't covered yet.)"
   ]
  },
  {
   "cell_type": "code",
   "execution_count": 77,
   "metadata": {},
   "outputs": [],
   "source": [
    "# Run this cell without changes\n",
    "\n",
    "selected_review_indices = (2, 4, 47)\n",
    "positive_review, negative_review, neutral_review = [reviews[i] for i in selected_review_indices]"
   ]
  },
  {
   "cell_type": "code",
   "execution_count": 108,
   "metadata": {},
   "outputs": [
    {
     "data": {
      "text/plain": [
       "'11 12, 2017'"
      ]
     },
     "execution_count": 108,
     "metadata": {},
     "output_type": "execute_result"
    }
   ],
   "source": [
    "# Run this cell without changes\n",
    "positive_review_time = positive_review[\"review_time\"]\n",
    "positive_review_time"
   ]
  },
  {
   "cell_type": "code",
   "execution_count": 109,
   "metadata": {},
   "outputs": [
    {
     "data": {
      "text/plain": [
       "2017"
      ]
     },
     "execution_count": 109,
     "metadata": {},
     "output_type": "execute_result"
    }
   ],
   "source": [
    "# Replace None with appropriate code\n",
    "positive_review_year = int(positive_review_time[-4: ])\n",
    "positive_review_year"
   ]
  },
  {
   "cell_type": "code",
   "execution_count": 110,
   "metadata": {},
   "outputs": [
    {
     "data": {
      "text/plain": [
       "int"
      ]
     },
     "execution_count": 110,
     "metadata": {},
     "output_type": "execute_result"
    }
   ],
   "source": [
    "# Run this cell without changes\n",
    "# This should show `int`\n",
    "type(positive_review_year)"
   ]
  },
  {
   "cell_type": "code",
   "execution_count": 97,
   "metadata": {},
   "outputs": [
    {
     "data": {
      "text/plain": [
       "{'rating': 5.0,\n",
       " 'reviewer_name': 'Karen',\n",
       " 'product_id': 'B00004RFRV',\n",
       " 'review_title': 'Bialetti is the Best!',\n",
       " 'review_time': '11 12, 2017',\n",
       " 'images': ['https://images-na.ssl-images-amazon.com/images/I/81+XxFRGyBL._SY88.jpg'],\n",
       " 'styles': {'Size:': ' 12-Cup', 'Color:': ' Silver'}}"
      ]
     },
     "execution_count": 97,
     "metadata": {},
     "output_type": "execute_result"
    }
   ],
   "source": [
    "positive_review"
   ]
  },
  {
   "cell_type": "code",
   "execution_count": 98,
   "metadata": {},
   "outputs": [
    {
     "data": {
      "text/plain": [
       "'11 12, 2017'"
      ]
     },
     "execution_count": 98,
     "metadata": {},
     "output_type": "execute_result"
    }
   ],
   "source": [
    "positive_review_time"
   ]
  },
  {
   "cell_type": "code",
   "execution_count": 81,
   "metadata": {},
   "outputs": [
    {
     "data": {
      "text/plain": [
       "{'rating': 5.0,\n",
       " 'reviewer_name': 'Karen',\n",
       " 'product_id': 'B00004RFRV',\n",
       " 'review_title': 'Bialetti is the Best!',\n",
       " 'review_time': '11 12, 2017',\n",
       " 'images': ['https://images-na.ssl-images-amazon.com/images/I/81+XxFRGyBL._SY88.jpg'],\n",
       " 'styles': {'Size:': ' 12-Cup', 'Color:': ' Silver'}}"
      ]
     },
     "execution_count": 81,
     "metadata": {},
     "output_type": "execute_result"
    }
   ],
   "source": [
    "review_index = 2\n",
    "selected_review = reviews[review_index]\n",
    "selected_review"
   ]
  },
  {
   "cell_type": "markdown",
   "metadata": {},
   "source": [
    "Now let's extract the `review_time` value from the positive review:"
   ]
  },
  {
   "cell_type": "markdown",
   "metadata": {},
   "source": [
    "Ok, it looks like this is is a string showing the month, the day, and then the year that the review was written. Write code to extract the last 4 characters of the string, then convert it into an integer"
   ]
  },
  {
   "cell_type": "code",
   "execution_count": 91,
   "metadata": {},
   "outputs": [
    {
     "data": {
      "text/plain": [
       "'2017'"
      ]
     },
     "execution_count": 91,
     "metadata": {},
     "output_type": "execute_result"
    }
   ],
   "source": [
    "positive_review_time[-4: ]"
   ]
  },
  {
   "cell_type": "code",
   "execution_count": 96,
   "metadata": {},
   "outputs": [
    {
     "data": {
      "text/plain": [
       "'11 12, 2017'"
      ]
     },
     "execution_count": 96,
     "metadata": {},
     "output_type": "execute_result"
    }
   ],
   "source": [
    "positive_review_time"
   ]
  },
  {
   "cell_type": "markdown",
   "metadata": {},
   "source": [
    "Repeat the same logic for the negative review and the neutral review"
   ]
  },
  {
   "cell_type": "code",
   "execution_count": 101,
   "metadata": {},
   "outputs": [
    {
     "data": {
      "text/plain": [
       "'06 4, 2017'"
      ]
     },
     "execution_count": 101,
     "metadata": {},
     "output_type": "execute_result"
    }
   ],
   "source": [
    "# Your code here for the negative review\n",
    "negative_review_time = negative_review[\"review_time\"]\n",
    "negative_review_time"
   ]
  },
  {
   "cell_type": "code",
   "execution_count": 103,
   "metadata": {},
   "outputs": [
    {
     "data": {
      "text/plain": [
       "2017"
      ]
     },
     "execution_count": 103,
     "metadata": {},
     "output_type": "execute_result"
    }
   ],
   "source": [
    "negative_review_year = int(negative_review_time[-4: ])\n",
    "negative_review_year"
   ]
  },
  {
   "cell_type": "code",
   "execution_count": 104,
   "metadata": {},
   "outputs": [
    {
     "data": {
      "text/plain": [
       "int"
      ]
     },
     "execution_count": 104,
     "metadata": {},
     "output_type": "execute_result"
    }
   ],
   "source": [
    "type(negative_review_year)"
   ]
  },
  {
   "cell_type": "code",
   "execution_count": 105,
   "metadata": {},
   "outputs": [
    {
     "data": {
      "text/plain": [
       "'04 17, 2015'"
      ]
     },
     "execution_count": 105,
     "metadata": {},
     "output_type": "execute_result"
    }
   ],
   "source": [
    "# Your code here for the neutral review\n",
    "neutral_review_time = neutral_review[\"review_time\"]\n",
    "neutral_review_time"
   ]
  },
  {
   "cell_type": "code",
   "execution_count": 106,
   "metadata": {},
   "outputs": [
    {
     "data": {
      "text/plain": [
       "2015"
      ]
     },
     "execution_count": 106,
     "metadata": {},
     "output_type": "execute_result"
    }
   ],
   "source": [
    "neutral_review_year = int(neutral_review_time[-4: ])\n",
    "neutral_review_year"
   ]
  },
  {
   "cell_type": "code",
   "execution_count": 107,
   "metadata": {},
   "outputs": [
    {
     "data": {
      "text/plain": [
       "int"
      ]
     },
     "execution_count": 107,
     "metadata": {},
     "output_type": "execute_result"
    }
   ],
   "source": [
    "type(neutral_review_year)"
   ]
  },
  {
   "cell_type": "markdown",
   "metadata": {},
   "source": [
    "### Bonus: Images\n",
    "\n",
    "(You can skip past this section if you want — this content will not be assessed.)\n",
    "\n",
    "One of the reasons Jupyter Notebooks are such a powerful data science tool is that they allow you to do a bit of web development without learning a new language beyond Python and Markdown. This entire notebook is just a complicated web page, and the information you've been printing out so far means you are creating dynamic web elements with your code!\n",
    "\n",
    "In addition to displaying the output of cells as strings of data, we can actually use Python to display images. We'll use the `Image` class from the `display` submodule of the `IPython` library, which is kind of like using the built-in `print` function to write text. There are a lot of other options in the `display` submodule that we won't cover, but you can read about them [here](https://ipython.readthedocs.io/en/stable/api/generated/IPython.display.html)."
   ]
  },
  {
   "cell_type": "code",
   "execution_count": null,
   "metadata": {},
   "outputs": [],
   "source": [
    "# Run this cell without changes\n",
    "from IPython.display import Image"
   ]
  },
  {
   "cell_type": "markdown",
   "metadata": {},
   "source": [
    "Here is an example of using the `Image` class with a hard-coded image:"
   ]
  },
  {
   "cell_type": "code",
   "execution_count": null,
   "metadata": {},
   "outputs": [],
   "source": [
    "# Run this cell without changes\n",
    "Image('https://www.google.com/images/branding/googlelogo/2x/googlelogo_color_272x92dp.png')"
   ]
  },
  {
   "cell_type": "markdown",
   "metadata": {},
   "source": [
    "Recall that our data contains links to images:"
   ]
  },
  {
   "cell_type": "code",
   "execution_count": null,
   "metadata": {},
   "outputs": [],
   "source": [
    "# Run this cell without changes\n",
    "positive_review"
   ]
  },
  {
   "cell_type": "markdown",
   "metadata": {},
   "source": [
    "The image link is a string, contained in a list, associated with the key `images`, so we'll extract it like this:"
   ]
  },
  {
   "cell_type": "code",
   "execution_count": null,
   "metadata": {},
   "outputs": [],
   "source": [
    "# Run this cell without changes\n",
    "positive_review_image_url = positive_review['images'][0]\n",
    "positive_review_image_url"
   ]
  },
  {
   "cell_type": "markdown",
   "metadata": {},
   "source": [
    "Now we can plug that into the `Image` tool:"
   ]
  },
  {
   "cell_type": "code",
   "execution_count": null,
   "metadata": {},
   "outputs": [],
   "source": [
    "# Run this cell without changes\n",
    "Image(positive_review_image_url)"
   ]
  },
  {
   "cell_type": "markdown",
   "metadata": {},
   "source": [
    "The same goes for the negative and neutral reviews:"
   ]
  },
  {
   "cell_type": "code",
   "execution_count": null,
   "metadata": {},
   "outputs": [],
   "source": [
    "# Run this cell without changes\n",
    "negative_review_image_url = negative_review['images'][0]\n",
    "Image(negative_review_image_url)"
   ]
  },
  {
   "cell_type": "code",
   "execution_count": null,
   "metadata": {},
   "outputs": [],
   "source": [
    "# Run this cell without changes\n",
    "neutral_review_image_url = neutral_review['images'][0]\n",
    "Image(neutral_review_image_url)"
   ]
  },
  {
   "cell_type": "markdown",
   "metadata": {},
   "source": [
    "### Bringing It All Together\n",
    "\n",
    "Now that we have individually extracted all of the relevant pieces, let's display a complete review summary based on a specified `review_index`\n",
    "\n",
    "We'll use index `2` (the positive review) as an example, although someone using your notebook should be able to change just the value of `review_index` and the rest should automatically update."
   ]
  },
  {
   "cell_type": "code",
   "execution_count": 111,
   "metadata": {},
   "outputs": [],
   "source": [
    "# Run this cell without changes\n",
    "review_index = 2"
   ]
  },
  {
   "cell_type": "markdown",
   "metadata": {},
   "source": [
    "The complete summary for index `2` should look like this:\n",
    "\n",
    "```\n",
    "\"Bialetti is the Best!\"\n",
    "This was a positive review written by Karen in 2017. \n",
    "```\n",
    "\n",
    "Optionally, it can also show the first associated image."
   ]
  },
  {
   "cell_type": "code",
   "execution_count": 114,
   "metadata": {},
   "outputs": [
    {
     "data": {
      "text/plain": [
       "{'rating': 5.0,\n",
       " 'reviewer_name': 'Karen',\n",
       " 'product_id': 'B00004RFRV',\n",
       " 'review_title': 'Bialetti is the Best!',\n",
       " 'review_time': '11 12, 2017',\n",
       " 'images': ['https://images-na.ssl-images-amazon.com/images/I/81+XxFRGyBL._SY88.jpg'],\n",
       " 'styles': {'Size:': ' 12-Cup', 'Color:': ' Silver'}}"
      ]
     },
     "execution_count": 114,
     "metadata": {},
     "output_type": "execute_result"
    }
   ],
   "source": [
    "reviews[review_index]"
   ]
  },
  {
   "cell_type": "code",
   "execution_count": 138,
   "metadata": {},
   "outputs": [
    {
     "data": {
      "text/plain": [
       "'Bialetti is the Best!'"
      ]
     },
     "execution_count": 138,
     "metadata": {},
     "output_type": "execute_result"
    }
   ],
   "source": [
    "# Your code here\n",
    "# \"Bialetti is the Best!\"\n",
    "# This was a positive review written by Karen in 2017.\n",
    "\n",
    "review_index = 2\n",
    "selected_review = reviews[review_index]\n",
    "selected_review_title = selected_review[\"review_title\"]\n",
    "selected_review_title"
   ]
  },
  {
   "cell_type": "code",
   "execution_count": 137,
   "metadata": {},
   "outputs": [
    {
     "data": {
      "text/plain": [
       "'Karen'"
      ]
     },
     "execution_count": 137,
     "metadata": {},
     "output_type": "execute_result"
    }
   ],
   "source": [
    "selected_review = reviews[review_index]\n",
    "selected_reviewer_name = selected_review[\"reviewer_name\"]\n",
    "selected_reviewer_name"
   ]
  },
  {
   "cell_type": "code",
   "execution_count": 136,
   "metadata": {},
   "outputs": [
    {
     "name": "stdout",
     "output_type": "stream",
     "text": [
      "This is a positive review\n"
     ]
    }
   ],
   "source": [
    "if selected_rating > 3:\n",
    "    print(\"This is a positive review\")\n",
    "elif selected_rating == 3:\n",
    "    print(\"This is a neutral review\")\n",
    "else:\n",
    "    print(\"This is a negative review\")"
   ]
  },
  {
   "cell_type": "code",
   "execution_count": 139,
   "metadata": {},
   "outputs": [
    {
     "data": {
      "text/plain": [
       "'11 12, 2017'"
      ]
     },
     "execution_count": 139,
     "metadata": {},
     "output_type": "execute_result"
    }
   ],
   "source": [
    "positive_review_time = positive_review[\"review_time\"]\n",
    "positive_review_time"
   ]
  },
  {
   "cell_type": "code",
   "execution_count": 140,
   "metadata": {},
   "outputs": [
    {
     "data": {
      "text/plain": [
       "2017"
      ]
     },
     "execution_count": 140,
     "metadata": {},
     "output_type": "execute_result"
    }
   ],
   "source": [
    "positive_review_year = int(positive_review_time[-4: ])\n",
    "positive_review_year"
   ]
  },
  {
   "cell_type": "code",
   "execution_count": 141,
   "metadata": {},
   "outputs": [
    {
     "ename": "SyntaxError",
     "evalue": "invalid syntax (<ipython-input-141-e899797e5d0d>, line 2)",
     "output_type": "error",
     "traceback": [
      "\u001b[1;36m  File \u001b[1;32m\"<ipython-input-141-e899797e5d0d>\"\u001b[1;36m, line \u001b[1;32m2\u001b[0m\n\u001b[1;33m    if selected_rating > 3:\u001b[0m\n\u001b[1;37m    ^\u001b[0m\n\u001b[1;31mSyntaxError\u001b[0m\u001b[1;31m:\u001b[0m invalid syntax\n"
     ]
    }
   ],
   "source": []
  },
  {
   "cell_type": "markdown",
   "metadata": {},
   "source": [
    "## Conclusion\n",
    "\n",
    "In this cumulative lab, you practiced some of the skills you've learned so far using real-world data. Starting from a nested list of dictionaries (which also contained other lists and dictionaries), you were able to extract and transform data into a new format."
   ]
  }
 ],
 "metadata": {
  "kernelspec": {
   "display_name": "Python (learn-env)",
   "language": "python",
   "name": "learn-env"
  },
  "language_info": {
   "codemirror_mode": {
    "name": "ipython",
    "version": 3
   },
   "file_extension": ".py",
   "mimetype": "text/x-python",
   "name": "python",
   "nbconvert_exporter": "python",
   "pygments_lexer": "ipython3",
   "version": "3.8.5"
  }
 },
 "nbformat": 4,
 "nbformat_minor": 4
}
